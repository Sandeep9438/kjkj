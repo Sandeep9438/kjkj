{
  "nbformat": 4,
  "nbformat_minor": 0,
  "metadata": {
    "colab": {
      "provenance": []
    },
    "kernelspec": {
      "name": "python3",
      "display_name": "Python 3"
    },
    "language_info": {
      "name": "python"
    }
  },
  "cells": [
    {
      "cell_type": "markdown",
      "source": [
        "**1. What is hypothesis testing in statistics?**\n",
        "\n",
        "  > Hypothesis is a claim or statement or an assumption about a population parameters that can be tested using statistical methods. It is a statistical method used to make decisions or draw conclusions about a population parameter based on data from a sample. It helps us decide whether the evidence in the sample is strong enough to accept or reject a claim about the population.\n",
        "\n",
        ">  Key Terms:\n",
        ">  1. Null hypothesis:\n",
        "      - It is the default assumption.\n",
        "      - example- the average height of a student is 150cm.\n",
        "\n",
        ">  2. Alternative hypothesis:\n",
        "      - It is the claim that you want to test.\n",
        "      - example- the average height of a studnet is not 150 cm.\n",
        "\n",
        ">  3. Level of significance:\n",
        "      - the probability of rejecting null hypothesis when it is actually true.\n",
        "      - its common value is 0.05 or 5%.\n",
        "\n",
        ">  4. Test Statistic:\n",
        "      - a calculated value from the sample that tells us how far the sample   result is from the hypothesized population value.\n",
        "      \n",
        ">  5. P Value:\n",
        "      - probability of getting the observed result if null hypothesis is true.\n",
        "      - if p value < alpha(0.05), then we reject the null hypothesis.\n",
        "\n",
        ">  Steps for hypothesis testing:\n",
        "> - state the hypothesis: null hypothesis, alternate hypothesis\n",
        "> - choose the significance level and select the test statistics\n",
        "> - calculate the test statistics\n",
        "> - find the critical value\n",
        "> - with all of the value, make the decision:\n",
        "    - if p value is < alpha, reject the null hypothesis.\n",
        "    - else, fail to reject the null hypothesis\n",
        "    \n",
        "> - write the conclusion about the problem\n",
        "\n",
        "\n",
        ">   Types of test:\n",
        "> - one-tail: checks if the value is greater or smaller than the claim.\n",
        "> - two-tailed: checks if the value is different\n",
        "\n",
        ">   Example: (theory explanation)\n",
        "> - you made a claim about the population.\n",
        "> - due to time and resource  constraints, you can not go to each person of population to record age.\n",
        "> - take sample, calculate average age of sample and check if the sample average age is close to the claim that you have made about the population.\n",
        "\n",
        ">   Conclusion:\n",
        "> - Hypothesis testing is a statistical process that helps in deciding whether a sample provides enough evidence to support or reject a claim about a population. It reduces uncertainty in decision-making by using probability. By comparing sample data with the assumed population parameter, it ensures that conclusions are based on evidence rather than guesswork"
      ],
      "metadata": {
        "id": "aWFKNblevN_Y"
      }
    }
  ]
}